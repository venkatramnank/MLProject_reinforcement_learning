{
  "nbformat": 4,
  "nbformat_minor": 0,
  "metadata": {
    "colab": {
      "name": "ML_reinforcement_learning_project.ipynb",
      "provenance": [],
      "collapsed_sections": [],
      "toc_visible": true
    },
    "kernelspec": {
      "name": "python3",
      "display_name": "Python 3"
    },
    "language_info": {
      "name": "python"
    }
  },
  "cells": [
    {
      "cell_type": "markdown",
      "metadata": {
        "id": "lpTcf6K7iCna"
      },
      "source": [
        "# Simple Routing Situation"
      ]
    },
    {
      "cell_type": "markdown",
      "metadata": {
        "id": "DSuus8jWfnjB"
      },
      "source": [
        "## Dijkstra Algorithm Approach"
      ]
    },
    {
      "cell_type": "code",
      "metadata": {
        "colab": {
          "base_uri": "https://localhost:8080/",
          "height": 386
        },
        "id": "_X5hAZLcfnEx",
        "outputId": "bdfc1b04-5f10-4553-b888-28027f52836f"
      },
      "source": [
        "# Implementing Dijkstra's Algorithm\n",
        "import time\n",
        "import networkx as nx\n",
        "import matplotlib.pyplot as plt\n",
        "G=nx.Graph()\n",
        "G.add_node(0)\n",
        "G.add_node(1)\n",
        "G.add_node(2)\n",
        "G.add_node(3)\n",
        "G.add_node(4)\n",
        "G.add_node(5)\n",
        "\n",
        "\n",
        "\n",
        "G.add_edge(0,1,weight=1)\n",
        "G.add_edge(0,2,weight=3)\n",
        "G.add_edge(1,3,weight=5)\n",
        "G.add_edge(2,3,weight=4)\n",
        "G.add_edge(1,4,weight=1)\n",
        "G.add_edge(3,4,weight=1)\n",
        "G.add_edge(3,5,weight=1)\n",
        "\n",
        "\n",
        "pos=nx.spring_layout(G,scale=3)\n",
        "nx.draw(G,pos,with_labels=True,font_weight='bold')\n",
        "edge_labels=nx.get_edge_attributes(G,'r')\n",
        "nx.draw_networkx_edge_labels(G,pos)\n",
        "plt.show()\n",
        "\n",
        "start=time.time()\n",
        "print(nx.shortest_path(G,0,5,weight='weight'))\n",
        "end=time.time()\n",
        "print('Time taken for Dijkstra Algorithm:')\n",
        "print(end-start)\n",
        "dijkstra_time=end-start\n",
        "print(nx.nx.shortest_path_length(G,0,5,weight='weight'))"
      ],
      "execution_count": null,
      "outputs": [
        {
          "output_type": "display_data",
          "data": {
            "image/png": "[encoded data removed]",
            "text/plain": [
              "<Figure size 432x288 with 1 Axes>"
            ]
          },
          "metadata": {
            "tags": []
          }
        },
        {
          "output_type": "stream",
          "text": [
            "[0, 1, 4, 3, 5]\n",
            "Time taken for Dijkstra Algorithm:\n",
            "0.00018835067749023438\n",
            "4\n"
          ],
          "name": "stdout"
        }
      ]
    },
    {
      "cell_type": "markdown",
      "metadata": {
        "id": "U-i7eOZFfgB9"
      },
      "source": [
        "## Q Learning Approach"
      ]
    },
    {
      "cell_type": "code",
      "metadata": {
        "colab": {
          "base_uri": "https://localhost:8080/",
          "height": 752
        },
        "id": "OcMTjBXVrJRN",
        "outputId": "079f19da-d3c0-4433-d0a9-99a5e44db8bd"
      },
      "source": [
        "import numpy as np\n",
        "import matplotlib.pyplot as plt\n",
        "import time\n",
        "import networkx as nx\n",
        "\n",
        "import matplotlib.pyplot as plt\n",
        "\n",
        "G=nx.Graph()\n",
        "\n",
        "\n",
        "G.add_node(0)\n",
        "G.add_node(1)\n",
        "G.add_node(2)\n",
        "G.add_node(3)\n",
        "G.add_node(4)\n",
        "G.add_node(5)\n",
        "\n",
        "\n",
        "\n",
        "G.add_edge(0,1,weight=1)\n",
        "G.add_edge(0,2,weight=3)\n",
        "G.add_edge(1,3,weight=5)\n",
        "G.add_edge(2,3,weight=4)\n",
        "G.add_edge(1,4,weight=1)\n",
        "G.add_edge(3,4,weight=1)\n",
        "G.add_edge(3,5,weight=1)\n",
        "\n",
        "\n",
        "pos=nx.spring_layout(G,scale=3)\n",
        "nx.draw(G,pos,with_labels=True,font_weight='bold')\n",
        "edge_labels=nx.get_edge_attributes(G,'r')\n",
        "nx.draw_networkx_edge_labels(G,pos)\n",
        "plt.show()\n",
        "\n",
        "RMatrix = np.matrix([ [-1,50,1,-1,-1,-1],\n",
        "\t\t[-1,-1,-1,1,50,-1],\n",
        "\t\t[-1,-1,-1,1,-1,-1],\n",
        "\t\t[-1,-1,-1,-1,-1,100],\n",
        "\t\t[-1,-1,-1,50,-1,-1],\n",
        "\t\t[-1,-1,-1,-1,-1,100] ])\n",
        "'''\n",
        "RMatrix=np.matrix(np.zeros(shape=(6,6)))\n",
        "for x in G[5]:\n",
        "  RMatrix[x,5]=100\n",
        "print('Reward Matrix :')\n",
        "print(RMatrix)\n",
        "'''\n",
        "QMatrix = np.matrix(np.zeros([6,6]))\n",
        "\n",
        "\n",
        "gamma = 0.9\n",
        "\n",
        "\n",
        "InitialState = 0\n",
        "\n",
        "def AllActions(state):\n",
        "    CurrentState = RMatrix[state,]\n",
        "    AllAct = np.where(CurrentState >= 0)[1]\n",
        "    return AllAct\n",
        "\n",
        "AvAct = AllActions(InitialState) \n",
        "\n",
        "def NextAction(AvActRange):\n",
        "    NextAct = int(np.random.choice(AvAct,1))\n",
        "    return NextAct\n",
        "\n",
        "Action = NextAction(AvAct)\n",
        "\n",
        "def Update(CurrentState, Action, gamma):\n",
        "    \n",
        "    MaxIndex = np.where(QMatrix[Action,] == np.max(QMatrix[Action,]))[1]\n",
        "\n",
        "    if MaxIndex.shape[0] > 1:\n",
        "        MaxIndex = int(np.random.choice(MaxIndex, size = 1))\n",
        "    else:\n",
        "        MaxIndex = int(MaxIndex)\n",
        "    MaxValue = QMatrix[Action, MaxIndex]\n",
        "    \n",
        "    QMatrix[CurrentState, Action] = RMatrix[CurrentState, Action] + gamma * MaxValue\n",
        "\n",
        "    #print('max_value', RMatrix[CurrentState, Action] + gamma * MaxValue)\n",
        "\n",
        "    if (np.max(QMatrix) > 0):\n",
        "      return(np.sum(QMatrix/np.max(QMatrix)*100))\n",
        "    else:\n",
        "      return (0)\n",
        "\n",
        "Update(InitialState,Action,gamma)\n",
        "\n",
        "scores=[]\n",
        "\n",
        "for i in range(10000):\n",
        "    CurrentState = np.random.randint(0, int(QMatrix.shape[0]))\n",
        "    AvAct = AllActions(CurrentState)\n",
        "    Action = NextAction(AvAct)\n",
        "    score=Update(CurrentState,Action,gamma)\n",
        "    scores.append(score)\n",
        "    #print ('Score:', str(score))\n",
        "\n",
        "    \n",
        "print(\"Q matrix trained :\")\n",
        "print(QMatrix/np.max(QMatrix)*100)\n",
        "\n",
        "CurrentState = 0\n",
        "Steps = [CurrentState]\n",
        "\n",
        "while CurrentState != 5:\n",
        "    startr=time.time()\n",
        "    NextStepIndex = np.where(QMatrix[CurrentState,] == np.max(QMatrix[CurrentState,]))[1]\n",
        "    \n",
        "    if NextStepIndex.shape[0] > 1:\n",
        "        NextStepIndex = int(np.random.choice(NextStepIndex, size = 1))\n",
        "    else:\n",
        "        NextStepIndex = int(NextStepIndex)\n",
        "    \n",
        "    Steps.append(NextStepIndex)\n",
        "    CurrentState = NextStepIndex\n",
        "endr=time.time()\n",
        "plt.plot(scores)\n",
        "plt.show()\n",
        "\n",
        "\n",
        "print(\"Shortest path:\")\n",
        "print(Steps)\n",
        "\n",
        "print('Time Elapsed in finding shortest path:')\n",
        "print(endr-startr)\n",
        "\n",
        "Reinforcment_time=endr-startr"
      ],
      "execution_count": null,
      "outputs": [
        {
          "output_type": "display_data",
          "data": {
            "image/png": "[encoded data removed]",
            "text/plain": [
              "<Figure size 432x288 with 1 Axes>"
            ]
          },
          "metadata": {
            "tags": []
          }
        },
        {
          "output_type": "stream",
          "text": [
            "Q matrix trained :\n",
            "[[  0.    86.45  81.19   0.     0.     0.  ]\n",
            " [  0.     0.     0.    90.1   90.5    0.  ]\n",
            " [  0.     0.     0.    90.1    0.     0.  ]\n",
            " [  0.     0.     0.     0.     0.   100.  ]\n",
            " [  0.     0.     0.    95.     0.     0.  ]\n",
            " [  0.     0.     0.     0.     0.   100.  ]]\n"
          ],
          "name": "stdout"
        },
        {
          "output_type": "display_data",
          "data": {
            "image/png": "[encoded data removed]",
            "text/plain": [
              "<Figure size 432x288 with 1 Axes>"
            ]
          },
          "metadata": {
            "tags": [],
            "needs_background": "light"
          }
        },
        {
          "output_type": "stream",
          "text": [
            "Shortest path:\n",
            "[0, 1, 4, 3, 5]\n",
            "Time Elapsed in finding shortest path:\n",
            "0.00010275840759277344\n"
          ],
          "name": "stdout"
        }
      ]
    },
    {
      "cell_type": "markdown",
      "metadata": {
        "id": "lNGK74lkgypv"
      },
      "source": [
        "## Bar Plot of comparison"
      ]
    },
    {
      "cell_type": "code",
      "metadata": {
        "id": "GFHRfeJ8wfJV",
        "colab": {
          "base_uri": "https://localhost:8080/",
          "height": 334
        },
        "outputId": "c0d9cde4-3bf7-47ab-e5f7-50e9d8d0b725"
      },
      "source": [
        "methods=['Dijkstra','RL']\n",
        "timers=[dijkstra_time,Reinforcment_time]\n",
        "fig = plt.figure(figsize = (10, 5))\n",
        " \n",
        "# creating the bar plot\n",
        "plt.bar(methods, timers, color ='maroon',\n",
        "        width = 0.4)\n",
        " \n",
        "plt.xlabel(\"Methods offered\")\n",
        "plt.ylabel(\"Time taken\")\n",
        "plt.show()"
      ],
      "execution_count": null,
      "outputs": [
        {
          "output_type": "display_data",
          "data": {
            "image/png": "[encoded data removed]",
            "text/plain": [
              "<Figure size 720x360 with 1 Axes>"
            ]
          },
          "metadata": {
            "tags": [],
            "needs_background": "light"
          }
        }
      ]
    },
    {
      "cell_type": "markdown",
      "metadata": {
        "id": "hAr483IPyp2y"
      },
      "source": [
        "## Taking up BGP Design"
      ]
    },
    {
      "cell_type": "code",
      "metadata": {
        "id": "52MynHdFpERj"
      },
      "source": [
        "G=nx.Graph()\n",
        "\n",
        "\n",
        "G.add_node(0)\n",
        "G.add_node(1)\n",
        "G.add_node(2)\n",
        "G.add_node(3)\n",
        "G.add_node(4)\n",
        "G.add_node(5)\n",
        "G.add_node(6)\n",
        "G.add_node(7)\n",
        "G.add_node(8)\n",
        "G.add_node(9)\n"
      ],
      "execution_count": null,
      "outputs": []
    },
    {
      "cell_type": "code",
      "metadata": {
        "id": "V0cqAv-ZzVHU"
      },
      "source": [
        "G.add_edge(0,1)\n",
        "G.add_edge(0,2)\n",
        "G.add_edge(1,2)\n",
        "G.add_edge(2,3)\n",
        "G.add_edge(3,4)\n",
        "G.add_edge(3,6)\n",
        "G.add_edge(3,5)\n",
        "G.add_edge(4,5)\n",
        "G.add_edge(4,6)\n",
        "G.add_edge(5,6)\n",
        "G.add_edge(6,7)\n",
        "G.add_edge(7,8)\n",
        "G.add_edge(7,9)\n",
        "G.add_edge(8,9)\n",
        "\n"
      ],
      "execution_count": null,
      "outputs": []
    },
    {
      "cell_type": "code",
      "metadata": {
        "colab": {
          "base_uri": "https://localhost:8080/",
          "height": 248
        },
        "id": "FqI33fIRz-Zl",
        "outputId": "86929e71-f0d1-41bd-df2e-f8bad8516286"
      },
      "source": [
        "pos = nx.spring_layout(G)\n",
        "nx.draw_networkx_nodes(G,pos)\n",
        "nx.draw_networkx_edges(G,pos)\n",
        "nx.draw_networkx_labels(G,pos)\n",
        "plt.show()"
      ],
      "execution_count": null,
      "outputs": [
        {
          "output_type": "display_data",
          "data": {
            "image/png": "[encoded data removed]",
            "text/plain": [
              "<Figure size 432x288 with 1 Axes>"
            ]
          },
          "metadata": {
            "tags": []
          }
        }
      ]
    },
    {
      "cell_type": "code",
      "metadata": {
        "colab": {
          "base_uri": "https://localhost:8080/"
        },
        "id": "HPieT1Ag0BVW",
        "outputId": "e02e08c8-809d-4802-8ccf-1ec0b54dfc4c"
      },
      "source": [
        "RMatrix=np.matrix(np.zeros(shape=(10,10)))\n",
        "for x in G[9]:\n",
        "  RMatrix[x,9]=100\n",
        "print('Reward Matrix :')\n",
        "print(RMatrix)"
      ],
      "execution_count": null,
      "outputs": [
        {
          "output_type": "stream",
          "text": [
            "Reward Matrix :\n",
            "[[  0.   0.   0.   0.   0.   0.   0.   0.   0.   0.]\n",
            " [  0.   0.   0.   0.   0.   0.   0.   0.   0.   0.]\n",
            " [  0.   0.   0.   0.   0.   0.   0.   0.   0.   0.]\n",
            " [  0.   0.   0.   0.   0.   0.   0.   0.   0.   0.]\n",
            " [  0.   0.   0.   0.   0.   0.   0.   0.   0.   0.]\n",
            " [  0.   0.   0.   0.   0.   0.   0.   0.   0.   0.]\n",
            " [  0.   0.   0.   0.   0.   0.   0.   0.   0.   0.]\n",
            " [  0.   0.   0.   0.   0.   0.   0.   0.   0. 100.]\n",
            " [  0.   0.   0.   0.   0.   0.   0.   0.   0. 100.]\n",
            " [  0.   0.   0.   0.   0.   0.   0.   0.   0.   0.]]\n"
          ],
          "name": "stdout"
        }
      ]
    },
    {
      "cell_type": "code",
      "metadata": {
        "colab": {
          "base_uri": "https://localhost:8080/"
        },
        "id": "Vh9_07dG0jbX",
        "outputId": "c0b3dc37-021e-4590-cb58-b232db4b7db3"
      },
      "source": [
        "QMatrix = np.matrix(np.zeros([10,10]))\n",
        "\n",
        "\n",
        "gamma = 0.9\n",
        "\n",
        "\n",
        "InitialState = 0\n",
        "\n",
        "def AllActions(state):\n",
        "    CurrentState = RMatrix[state,]\n",
        "    AllAct = np.where(CurrentState >= 0)[1]\n",
        "    return AllAct\n",
        "\n",
        "AvAct = AllActions(InitialState) \n",
        "\n",
        "def NextAction(AvActRange):\n",
        "    NextAct = int(np.random.choice(AvAct,1))\n",
        "    return NextAct\n",
        "\n",
        "Action = NextAction(AvAct)\n",
        "\n",
        "def Update(CurrentState, Action, gamma):\n",
        "    \n",
        "    MaxIndex = np.where(QMatrix[Action,] == np.max(QMatrix[Action,]))[1]\n",
        "\n",
        "    if MaxIndex.shape[0] > 1:\n",
        "        MaxIndex = int(np.random.choice(MaxIndex, size = 1))\n",
        "    else:\n",
        "        MaxIndex = int(MaxIndex)\n",
        "    MaxValue = QMatrix[Action, MaxIndex]\n",
        "    \n",
        "    QMatrix[CurrentState, Action] = RMatrix[CurrentState, Action] + gamma * MaxValue\n",
        "\n",
        "    #print('max_value', RMatrix[CurrentState, Action] + gamma * MaxValue)\n",
        "\n",
        "    if (np.max(QMatrix) > 0):\n",
        "      return(np.sum(QMatrix/np.max(QMatrix)*100))\n",
        "    else:\n",
        "      return (0)\n",
        "\n",
        "Update(InitialState,Action,gamma)\n",
        "\n",
        "scores=[]\n",
        "\n",
        "for i in range(10000):\n",
        "    CurrentState = np.random.randint(0, int(QMatrix.shape[0]))\n",
        "    AvAct = AllActions(CurrentState)\n",
        "    Action = NextAction(AvAct)\n",
        "    score=Update(CurrentState,Action,gamma)\n",
        "    scores.append(score)\n",
        "    #print ('Score:', str(score))\n",
        "\n",
        "    \n",
        "print(\"Q matrix trained :\")\n",
        "print(QMatrix/np.max(QMatrix)*100)\n",
        "\n",
        "CurrentState = 0\n",
        "Steps = [CurrentState]\n",
        "\n",
        "while CurrentState != 5:\n",
        "    startr=time.time()\n",
        "    NextStepIndex = np.where(QMatrix[CurrentState,] == np.max(QMatrix[CurrentState,]))[1]\n",
        "    \n",
        "    if NextStepIndex.shape[0] > 1:\n",
        "        NextStepIndex = int(np.random.choice(NextStepIndex, size = 1))\n",
        "    else:\n",
        "        NextStepIndex = int(NextStepIndex)\n",
        "    \n",
        "    Steps.append(NextStepIndex)\n",
        "    CurrentState = NextStepIndex\n",
        "endr=time.time()\n",
        "plt.plot(scores)\n",
        "plt.show()\n",
        "\n",
        "\n",
        "print(\"Shortest path:\")\n",
        "print(Steps)\n",
        "\n",
        "print('Time Elapsed in finding shortest path:')\n",
        "print(endr-startr)\n",
        "\n",
        "Reinforcment_time=endr-startr"
      ],
      "execution_count": null,
      "outputs": [
        {
          "output_type": "stream",
          "text": [
            "Q matrix trained :\n",
            "[[ 81.          80.9999956   80.9999889   81.          81.\n",
            "   80.9999956   81.          90.          89.99998766  80.9999956 ]\n",
            " [ 81.          81.          80.9999956   81.          81.\n",
            "   80.9999956   81.          90.          89.99998766  80.99999803]\n",
            " [ 81.          80.9999956   80.9999956   81.          81.\n",
            "   80.9999956   80.9999956   89.99999511  89.99998766  80.99999803]\n",
            " [ 81.          80.9999956   80.9999956   80.9999926   81.\n",
            "   80.9999956   80.9999956   90.          89.99998766  80.99999803]\n",
            " [ 81.          81.          80.9999956   81.          81.\n",
            "   80.9999956   80.9999889   90.          89.99998766  80.99999803]\n",
            " [ 81.          81.          80.9999889   81.          81.\n",
            "   80.9999956   81.          89.99999511  90.          80.99999803]\n",
            " [ 81.          81.          80.9999956   81.          80.9999926\n",
            "   80.9999956   81.          90.          90.          80.99999803]\n",
            " [ 81.          80.9999956   80.9999956   81.          81.\n",
            "   80.9999956   80.9999926   90.          89.99998766 100.        ]\n",
            " [ 80.9999926   80.9999956   80.9999956   80.9999926   81.\n",
            "   80.9999956   80.9999956   90.          89.99998766 100.        ]\n",
            " [ 81.          80.9999956   80.9999889   80.9999926   81.\n",
            "   80.9999956   80.9999956   89.99999781  90.          80.99999803]]\n"
          ],
          "name": "stdout"
        }
      ]
    }
  ]
}